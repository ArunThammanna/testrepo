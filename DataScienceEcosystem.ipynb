{
 "cells": [
  {
   "cell_type": "code",
   "execution_count": 2,
   "metadata": {},
   "outputs": [
    {
     "name": "stdout",
     "output_type": "stream",
     "text": [
      "xyz 3\n"
     ]
    }
   ],
   "source": [
    "num1 = 1\n",
    "num2 = 2\n",
    "sum = num1 + num2\n",
    "print (\"xyz\", sum)"
   ]
  },
  {
   "cell_type": "markdown",
   "metadata": {
    "slideshow": {
     "slide_type": "notes"
    },
    "tags": []
   },
   "source": [
    "makrdown"
   ]
  },
  {
   "cell_type": "markdown",
   "metadata": {},
   "source": [
    "# Data Science Tools and Ecosystem\n",
    "## Data Science Tools and Ecosystem\n",
    "### Data Science Tools and Ecosystem\n",
    "#### Data Science Tools and Ecosystem\n"
   ]
  },
  {
   "cell_type": "code",
   "execution_count": null,
   "metadata": {
    "tags": []
   },
   "outputs": [],
   "source": []
  },
  {
   "cell_type": "markdown",
   "metadata": {},
   "source": [
    "# Data Science Tools and Ecosystem"
   ]
  },
  {
   "cell_type": "markdown",
   "metadata": {},
   "source": [
    "# In this notebook, Data Science Tools and Ecosystem are summarized.\n",
    "### Data science tools are very essential for below activity  \n",
    "#### Data Management\n",
    "#### Data Integration and Transformation\n",
    "#### Data Visualization\n",
    "#### Model Building\n",
    "#### Model Deployment\n",
    "#### Model Monitoring and Assessment"
   ]
  },
  {
   "cell_type": "markdown",
   "metadata": {},
   "source": [
    "# Some of the popular languages that Data Scientists use are"
   ]
  },
  {
   "cell_type": "markdown",
   "metadata": {},
   "source": [
    "#### Python, \n",
    "#### R, \n",
    "#### SQL, \n",
    "#### Scala, \n",
    "#### Java, \n",
    "#### C++ and\n",
    "#### Julia."
   ]
  },
  {
   "cell_type": "markdown",
   "metadata": {},
   "source": [
    "## Some of the commonly used libraries used by Data Scientists include:"
   ]
  },
  {
   "cell_type": "markdown",
   "metadata": {},
   "source": [
    "#### Python's scientific computing libraries like Pandas, NumPy, SciPy, and Matplotlib. \n"
   ]
  },
  {
   "cell_type": "code",
   "execution_count": 10,
   "metadata": {},
   "outputs": [
    {
     "name": "stdout",
     "output_type": "stream",
     "text": [
      "╒══════════════════════╕\n",
      "│ Data Science Tools   │\n",
      "╞══════════════════════╡\n",
      "│ MySQL                │\n",
      "├──────────────────────┤\n",
      "│ PostgreSQL           │\n",
      "├──────────────────────┤\n",
      "│ MongoDB              │\n",
      "├──────────────────────┤\n",
      "│ Apache CouchDB       │\n",
      "├──────────────────────┤\n",
      "│ Apache Cassandra     │\n",
      "├──────────────────────┤\n",
      "│ Hadoop File System   │\n",
      "├──────────────────────┤\n",
      "│ Ceph                 │\n",
      "├──────────────────────┤\n",
      "│ KubeFlow             │\n",
      "├──────────────────────┤\n",
      "│ NodeRED              │\n",
      "├──────────────────────┤\n",
      "│ Pixie Dust           │\n",
      "├──────────────────────┤\n",
      "│ Kibana               │\n",
      "├──────────────────────┤\n",
      "│ Apache PredictionIO  │\n",
      "╘══════════════════════╛\n"
     ]
    }
   ],
   "source": [
    "from tabulate import tabulate\n",
    "#create data\n",
    "data = [[\"MySQL\"], \n",
    "        [\"PostgreSQL\"], \n",
    "        [\"MongoDB\"], \n",
    "        [\"Apache CouchDB\"],\n",
    "        [\"Apache Cassandra\"],\n",
    "        [\"Hadoop File System\"],\n",
    "        [\"Ceph\"],\n",
    "        [\"KubeFlow\"],\n",
    "        [\"NodeRED\"],\n",
    "        [\"Pixie Dust\"],\n",
    "        [\"Kibana\"],\n",
    "        [\"Apache PredictionIO\"]]\n",
    "  \n",
    "#define header names\n",
    "col_names = [\"Data Science Tools\"]\n",
    "  \n",
    "#display table\n",
    "print(tabulate(data, headers=col_names, tablefmt=\"fancy_grid\"))\n"
   ]
  },
  {
   "cell_type": "markdown",
   "metadata": {},
   "source": [
    "### Below are a few examples of evaluating arithmetic expressions in Python"
   ]
  },
  {
   "cell_type": "code",
   "execution_count": 12,
   "metadata": {},
   "outputs": [
    {
     "data": {
      "text/plain": [
       "12"
      ]
     },
     "execution_count": 12,
     "metadata": {},
     "output_type": "execute_result"
    }
   ],
   "source": [
    "eval(\"5 + 7\")"
   ]
  },
  {
   "cell_type": "code",
   "execution_count": 13,
   "metadata": {},
   "outputs": [
    {
     "data": {
      "text/plain": [
       "35"
      ]
     },
     "execution_count": 13,
     "metadata": {},
     "output_type": "execute_result"
    }
   ],
   "source": [
    "eval(\"5 * 7\")"
   ]
  },
  {
   "cell_type": "code",
   "execution_count": 14,
   "metadata": {},
   "outputs": [
    {
     "data": {
      "text/plain": [
       "78125"
      ]
     },
     "execution_count": 14,
     "metadata": {},
     "output_type": "execute_result"
    }
   ],
   "source": [
    "eval(\"5 ** 7\")"
   ]
  },
  {
   "cell_type": "code",
   "execution_count": 17,
   "metadata": {},
   "outputs": [
    {
     "data": {
      "text/plain": [
       "17"
      ]
     },
     "execution_count": 17,
     "metadata": {},
     "output_type": "execute_result"
    }
   ],
   "source": [
    "eval (\"(3*4)+5\")"
   ]
  },
  {
   "cell_type": "markdown",
   "metadata": {},
   "source": [
    "### This a simple arithmetic expression to mutiply then add integers"
   ]
  },
  {
   "cell_type": "code",
   "execution_count": 21,
   "metadata": {},
   "outputs": [
    {
     "data": {
      "text/plain": [
       "17"
      ]
     },
     "execution_count": 21,
     "metadata": {},
     "output_type": "execute_result"
    }
   ],
   "source": [
    "eval(\"(3 * 4) + 5\")"
   ]
  },
  {
   "cell_type": "code",
   "execution_count": 22,
   "metadata": {},
   "outputs": [
    {
     "data": {
      "text/plain": [
       "4"
      ]
     },
     "execution_count": 22,
     "metadata": {},
     "output_type": "execute_result"
    }
   ],
   "source": [
    "eval(\"(3 - 4) + 5\")"
   ]
  },
  {
   "cell_type": "code",
   "execution_count": 23,
   "metadata": {},
   "outputs": [
    {
     "data": {
      "text/plain": [
       "35"
      ]
     },
     "execution_count": 23,
     "metadata": {},
     "output_type": "execute_result"
    }
   ],
   "source": [
    "eval(\"(3 + 4) * 5\")"
   ]
  },
  {
   "cell_type": "code",
   "execution_count": 30,
   "metadata": {},
   "outputs": [
    {
     "name": "stdin",
     "output_type": "stream",
     "text": [
      "Enter the min you want convert:  200\n"
     ]
    },
    {
     "name": "stdout",
     "output_type": "stream",
     "text": [
      "Time in hours and min: 3:20\n"
     ]
    }
   ],
   "source": [
    "total_minutes = input(\"Enter the min you want convert: \")\n",
    "total_minutes = int(total_minutes)\n",
    "# Get hours with floor division\n",
    "hours = total_minutes // 60\n",
    "\n",
    "# Get additional minutes with modulus\n",
    "minutes = total_minutes % 60\n",
    "\n",
    "# Create time as a string\n",
    "time = \"{}:{}\".format(hours, minutes)\n",
    "\n",
    "print(\"Time in hours and min:\", time)"
   ]
  },
  {
   "cell_type": "markdown",
   "metadata": {
    "tags": []
   },
   "source": [
    "# **Objectives**"
   ]
  },
  {
   "cell_type": "markdown",
   "metadata": {},
   "source": [
    "#### **List of popular languages for Data Science**\n",
    "- Python\n",
    "- R\n",
    "- Python, \n",
    "- SQL, \n",
    "- Scala, \n",
    "- Java, \n",
    "- C++ and\n",
    "- Julia."
   ]
  },
  {
   "cell_type": "markdown",
   "metadata": {},
   "source": [
    "## Author\n",
    "Arun Thammanna"
   ]
  },
  {
   "cell_type": "code",
   "execution_count": null,
   "metadata": {},
   "outputs": [],
   "source": []
  }
 ],
 "metadata": {
  "kernelspec": {
   "display_name": "Python 3 (ipykernel)",
   "language": "python",
   "name": "python3"
  },
  "language_info": {
   "codemirror_mode": {
    "name": "ipython",
    "version": 3
   },
   "file_extension": ".py",
   "mimetype": "text/x-python",
   "name": "python",
   "nbconvert_exporter": "python",
   "pygments_lexer": "ipython3",
   "version": "3.9.13"
  }
 },
 "nbformat": 4,
 "nbformat_minor": 4
}
